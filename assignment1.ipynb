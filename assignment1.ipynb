{
 "cells": [
  {
   "cell_type": "code",
   "execution_count": 6,
   "id": "255d1167-5d3f-4f9a-b52b-7f4e5c245b4b",
   "metadata": {},
   "outputs": [
    {
     "name": "stdout",
     "output_type": "stream",
     "text": [
      "Guido van Rossum\n"
     ]
    }
   ],
   "source": [
    " print('Guido van Rossum')"
   ]
  },
  {
   "cell_type": "code",
   "execution_count": 7,
   "id": "6641c39a-2821-437b-846f-00837629552a",
   "metadata": {},
   "outputs": [
    {
     "name": "stdout",
     "output_type": "stream",
     "text": [
      "object-oriented,structured and functional\n"
     ]
    }
   ],
   "source": [
    "print('object-oriented,structured and functional')"
   ]
  },
  {
   "cell_type": "code",
   "execution_count": 8,
   "id": "d0f55cf3-f91a-4a45-a8ba-3d29692c40a4",
   "metadata": {},
   "outputs": [
    {
     "name": "stdout",
     "output_type": "stream",
     "text": [
      "yes python is case sensitive\n"
     ]
    }
   ],
   "source": [
    "print('yes python is case sensitive')"
   ]
  },
  {
   "cell_type": "code",
   "execution_count": 9,
   "id": "e7162c13-4067-45f4-9dda-8b6933a57cdb",
   "metadata": {},
   "outputs": [
    {
     "name": "stdout",
     "output_type": "stream",
     "text": [
      "the correct extension of python is .py\n"
     ]
    }
   ],
   "source": [
    "print('the correct extension of python is .py')"
   ]
  },
  {
   "cell_type": "code",
   "execution_count": 10,
   "id": "e0d8aaeb-4db1-471b-ac4d-bbbe5e6ec31f",
   "metadata": {},
   "outputs": [
    {
     "name": "stdout",
     "output_type": "stream",
     "text": [
      "python is an interpreted launguage\n"
     ]
    }
   ],
   "source": [
    "print('python is an interpreted launguage')"
   ]
  },
  {
   "cell_type": "code",
   "execution_count": 11,
   "id": "aa929e6d-62cc-4549-8403-3a56f892c82b",
   "metadata": {},
   "outputs": [
    {
     "name": "stdout",
     "output_type": "stream",
     "text": [
      "few blocks used in python are - a module, a function body and a class definition\n"
     ]
    }
   ],
   "source": [
    "print('few blocks used in python are - a module, a function body and a class definition')"
   ]
  },
  {
   "cell_type": "code",
   "execution_count": 12,
   "id": "58716a5e-e2a6-4248-a627-c31ff1137bee",
   "metadata": {},
   "outputs": [
    {
     "name": "stdout",
     "output_type": "stream",
     "text": [
      "# is used to put up a single line comment\n"
     ]
    }
   ],
   "source": [
    "print('# is used to put up a single line comment')"
   ]
  },
  {
   "cell_type": "code",
   "execution_count": 13,
   "id": "ed71dd3e-99c0-4554-b56c-24bd3fa99eed",
   "metadata": {},
   "outputs": [
    {
     "name": "stdout",
     "output_type": "stream",
     "text": [
      "by type python-version command\n"
     ]
    }
   ],
   "source": [
    "print('by type python-version command')"
   ]
  },
  {
   "cell_type": "code",
   "execution_count": 14,
   "id": "0059a020-d540-4339-bd0e-30b2f328125f",
   "metadata": {},
   "outputs": [
    {
     "name": "stdout",
     "output_type": "stream",
     "text": [
      "by using lambda\n"
     ]
    }
   ],
   "source": [
    "print('by using lambda')"
   ]
  },
  {
   "cell_type": "code",
   "execution_count": 15,
   "id": "2a8c0fc8-fa8a-4868-bc89-9875ac789d3e",
   "metadata": {},
   "outputs": [
    {
     "name": "stdout",
     "output_type": "stream",
     "text": [
      "pip stands for pip install packages\n"
     ]
    }
   ],
   "source": [
    "print('pip stands for pip install packages')"
   ]
  },
  {
   "cell_type": "code",
   "execution_count": 16,
   "id": "210a8b5e-6559-4799-a8ed-20b2e9207e45",
   "metadata": {},
   "outputs": [
    {
     "name": "stdout",
     "output_type": "stream",
     "text": [
      "some built-in functions in python are - 'print','list','type','float','str','int','bool' \n"
     ]
    }
   ],
   "source": [
    "print(\"some built-in functions in python are - 'print','list','type','float','str','int','bool' \")"
   ]
  },
  {
   "cell_type": "code",
   "execution_count": 17,
   "id": "756c7edf-9f2e-42d2-a078-1ccbb4b16678",
   "metadata": {},
   "outputs": [
    {
     "name": "stdout",
     "output_type": "stream",
     "text": [
      "maximum possible length of a identifier in python is 79\n"
     ]
    }
   ],
   "source": [
    "print('maximum possible length of a identifier in python is 79')"
   ]
  },
  {
   "cell_type": "code",
   "execution_count": 18,
   "id": "9f325a8a-4955-412e-b646-4b35e6eb919e",
   "metadata": {},
   "outputs": [
    {
     "name": "stdout",
     "output_type": "stream",
     "text": [
      "It is dynamically typed languageThis can be used to develope basic gamesuse as backend in website functioning\n"
     ]
    }
   ],
   "source": [
    "print(\"It is dynamically typed language\"\n",
    "      \"This can be used to develope basic games\"\n",
    "      \"use as backend in website functioning\"\n",
    "     )"
   ]
  },
  {
   "cell_type": "code",
   "execution_count": 20,
   "id": "dce1a989-f038-4270-9174-1b32f0ca90c8",
   "metadata": {},
   "outputs": [
    {
     "name": "stdout",
     "output_type": "stream",
     "text": [
      "python have a private heap containing all python oobjects and data structures\n"
     ]
    }
   ],
   "source": [
    "print('python have a private heap containing all python oobjects and data structures')"
   ]
  },
  {
   "cell_type": "code",
   "execution_count": 23,
   "id": "3cb11c3f-548e-4621-bd10-2135ec979bfc",
   "metadata": {},
   "outputs": [
    {
     "name": "stdout",
     "output_type": "stream",
     "text": [
      " Right click on this and pc and select properties\n",
      "clikcking on the advanced system setting in the menu on the left\n",
      " clicking on envrinment variables button on bottom right\n",
      "In the System variables section, selecting the Path variable and clicking on Edit. The next screen will show all the directories that are currently a part of the PATH variable.\n",
      "Clicking on New and entering Python’s install directory.\n"
     ]
    }
   ],
   "source": [
    "print(' Right click on this and pc and select properties')\n",
    "print('clikcking on the advanced system setting in the menu on the left')\n",
    "print(' clicking on envrinment variables button on bottom right')\n",
    "print('In the System variables section, selecting the Path variable and clicking on Edit. The next screen will show all the directories that are currently a part of the PATH variable.')\n",
    "print('Clicking on New and entering Python’s install directory.')\n"
   ]
  },
  {
   "cell_type": "code",
   "execution_count": 24,
   "id": "c9f4587e-ce71-4011-b0e1-f46c9eaffe25",
   "metadata": {},
   "outputs": [
    {
     "name": "stdout",
     "output_type": "stream",
     "text": [
      "yes, identification is required in python\n"
     ]
    }
   ],
   "source": [
    "print('yes, identification is required in python')"
   ]
  },
  {
   "cell_type": "code",
   "execution_count": null,
   "id": "bd257682-4e88-4e71-825c-3dcd891b6049",
   "metadata": {},
   "outputs": [],
   "source": []
  }
 ],
 "metadata": {
  "kernelspec": {
   "display_name": "Python 3 (ipykernel)",
   "language": "python",
   "name": "python3"
  },
  "language_info": {
   "codemirror_mode": {
    "name": "ipython",
    "version": 3
   },
   "file_extension": ".py",
   "mimetype": "text/x-python",
   "name": "python",
   "nbconvert_exporter": "python",
   "pygments_lexer": "ipython3",
   "version": "3.10.8"
  }
 },
 "nbformat": 4,
 "nbformat_minor": 5
}
